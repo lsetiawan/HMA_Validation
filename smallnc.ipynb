{
 "cells": [
  {
   "cell_type": "code",
   "execution_count": null,
   "metadata": {},
   "outputs": [],
   "source": [
    "import os\n",
    "import numpy as np\n",
    "import xarray as xr\n",
    "import zarr\n",
    "import s3fs\n",
    "from matplotlib import pyplot as plt\n",
    "\n",
    "# ---> set regen_zarr to True for first run\n",
    "regen_zarr = False\n",
    "\n",
    "# ----> create a fake data\n",
    "ncfn0  = 'small.nc'\n",
    "outdir = os.getcwd()\n",
    "ncfn   = os.path.join(outdir,ncfn0)\n",
    "\n",
    "x = np.linspace(-3,3,61)\n",
    "y = np.linspace(-2,2,41)\n",
    "t = np.linspace(-1,1,21)\n",
    "xx,yy = np.meshgrid(x,y)\n",
    "nt = len(t)\n",
    "ny,nx = xx.shape\n",
    "z = np.zeros((nt,ny,nx))\n",
    "for i in range(nt):\n",
    "    z[i] = xx**2*np.cos(t[i]) - yy**2*np.sin(t[i])\n",
    "da = xr.DataArray(z,coords=[t,y,x],dims=['t','y','x'])\n",
    "ds = xr.Dataset({'z':da})\n",
    "ds.to_netcdf(ncfn)\n",
    "\n",
    "\n",
    "# ----> convert nc to local zarr:: 3 chunks in t\n",
    "zarr_local = os.path.join(ncfn+'.zarr')\n",
    "if not os.path.exists(zarr_local): \n",
    "    # without the condition above, running this section \n",
    "    # a second time will produce error\n",
    "    with xr.open_dataset(ncfn,chunks={'t':7}) as ds0:\n",
    "        compressor = zarr.Blosc(cname='zstd', clevel=3)\n",
    "        encoding = {vname: {'compressor': compressor} for vname in ds0.data_vars}\n",
    "        ds.to_zarr(store=zarr_local,encoding=encoding) \n",
    "\n",
    "\n",
    "# ----> convert nc to zarr on s3:: 3 chunks in t, \n",
    "SNAME    = 'test_zarr'\n",
    "S3_root  = 's3://pangeo-data-upload-oregon/icesat2/HMA_Validation/'\n",
    "ZAR_path = os.path.join( S3_root , SNAME )\n",
    "zpath    = os.path.join(ZAR_path,ncfn0+'.zarr')\n",
    "\n",
    "fs       = s3fs.S3FileSystem()\n",
    "ds_store = s3fs.S3Map(root=zpath,s3=fs,check=True)\n",
    "# ---> need to remove remote zarr before regen_zarr !!\n",
    "#      aws s3 rm s3://pangeo-data-upload-oregon/icesat2/HMA_Validation/test_zarr/small.nc.zarr/ --recursive\n",
    "if regen_zarr: \n",
    "    with xr.open_dataset(ncfn,chunks={'t':7}) as ds1:\n",
    "        compressor = zarr.Blosc(cname='zstd', clevel=3)\n",
    "        encoding   = {vname: {'compressor': compressor} for vname in ds1.data_vars}\n",
    "        ds.to_zarr(store=ds_store,encoding=encoding) \n",
    "\n"
   ]
  },
  {
   "cell_type": "code",
   "execution_count": null,
   "metadata": {},
   "outputs": [],
   "source": [
    "# --- Pangeo does not have ncview, check data here\n",
    "it = 15\n",
    "plt.contourf(x,y,z[it])"
   ]
  },
  {
   "cell_type": "code",
   "execution_count": null,
   "metadata": {},
   "outputs": [],
   "source": [
    "# ----> check local zarr data\n",
    "zarr_ds = xr.open_zarr(store=zarr_local)\n",
    "print(zarr_ds)\n",
    "plt.contourf(zarr_ds.x,zarr_ds.y,zarr_ds.z[it])"
   ]
  },
  {
   "cell_type": "code",
   "execution_count": null,
   "metadata": {},
   "outputs": [],
   "source": [
    "# ---> check s3 zarr\n",
    "dstore = s3fs.S3Map(root=zpath,s3=fs,check=True)\n",
    "# --- method 1: empty, zarr_s3['z'] returns error\n",
    "zarr_s3 = xr.open_zarr(store=dstore)\n",
    "# --- method 2: looks empty, can access z by zarr_rt['t'], but no metadata\n",
    "zarr_rt = zarr.group(store=dstore)\n",
    "plt.contourf(zarr_rt.x,zarr_rt.y,zarr_rt.z[it])"
   ]
  },
  {
   "cell_type": "code",
   "execution_count": null,
   "metadata": {},
   "outputs": [],
   "source": []
  }
 ],
 "metadata": {
  "kernelspec": {
   "display_name": "Python 3",
   "language": "python",
   "name": "python3"
  },
  "language_info": {
   "codemirror_mode": {
    "name": "ipython",
    "version": 3
   },
   "file_extension": ".py",
   "mimetype": "text/x-python",
   "name": "python",
   "nbconvert_exporter": "python",
   "pygments_lexer": "ipython3",
   "version": "3.6.7"
  }
 },
 "nbformat": 4,
 "nbformat_minor": 2
}
