{
 "cells": [
  {
   "cell_type": "code",
   "execution_count": null,
   "metadata": {},
   "outputs": [],
   "source": [
    "# Jupter notebook magic\n",
    "%matplotlib inline\n",
    "\n",
    "# Import libraries to work with the data\n",
    "\n",
    "import os\n",
    "import sys\n",
    "import importlib\n",
    "from glob import glob\n",
    "from datetime import datetime, timedelta\n",
    "import h5py\n",
    "from dask import compute\n",
    "import dask\n",
    "from distributed import Client\n",
    "import geopandas as gpd\n",
    "from geopandas import GeoDataFrame\n",
    "import matplotlib\n",
    "import matplotlib.pyplot as plt\n",
    "import numpy as np\n",
    "import pandas as pd\n",
    "import xarray as xr\n",
    "import scipy.optimize\n",
    "from PyAstronomy import pyasl\n",
    "from scipy import signal\n",
    "from shapely.geometry import (Polygon, Point, box)\n",
    "\n",
    "import pyepsg\n",
    "\n",
    "from matplotlib import pyplot as plt\n",
    "\n",
    "import himatpy, himatpy.GRACE_MASCON.pygrace, himatpy.MAR.utils\n",
    "importlib.reload(himatpy)\n",
    "importlib.reload(himatpy.GRACE_MASCON.pygrace)\n",
    "importlib.reload(himatpy.MAR.utils)\n",
    "from himatpy.GRACE_MASCON.pygrace import __aggregate_mascon\n",
    "from himatpy.GRACE_MASCON.pygrace import (extract_grace, get_mascon_gdf, trend_analysis, get_cmwe_trend_analysis, select_mascons, aggregate_mascons)\n",
    "from himatpy.MAR.utils import get_xr_dataset\n",
    "\n",
    "from himatpy.LIS import utils as LISutils\n",
    "from himatpy.MAR import utils as MARutils\n",
    "from himatpy.tools import animation_tools\n",
    "\n",
    "import warnings\n",
    "warnings.filterwarnings('ignore')"
   ]
  },
  {
   "cell_type": "code",
   "execution_count": null,
   "metadata": {},
   "outputs": [],
   "source": [
    "agg_fns = sorted(glob('agg_MAR/*.nc'))\n",
    "ds = xr.open_mfdataset(agg_fns,autoclose=True,concat_dim='time')"
   ]
  },
  {
   "cell_type": "code",
   "execution_count": null,
   "metadata": {},
   "outputs": [],
   "source": [
    "masked_gdf = gpd.read_file('MAR_mascons.shp')\n",
    "\n",
    "Grace_fn = 'Data/Grace/GSFC.glb.200301_201607_v02.4-ICE6G.h5'\n",
    "# ---> use local copy\n",
    "grace_file = os.path.abspath(Grace_fn)\n",
    "f = extract_grace(grace_file,printGroups=False)\n",
    "    \n",
    "mascon = f['mascon']\n",
    "soln = f['solution']\n",
    "time = f['time']\n"
   ]
  },
  {
   "cell_type": "code",
   "execution_count": null,
   "metadata": {},
   "outputs": [],
   "source": [
    "mascons = ds['mascons'].data\n",
    "t = pd.DataFrame(data = {\n",
    "    'time': f['time'][\"ref_days_middle\"][0,:]\n",
    "})\n",
    "grc_lst = []\n",
    "for m in mascons:\n",
    "    df = pd.DataFrame(data={\n",
    "        'mmwe': soln['cmwe'][m][:] * 10,\n",
    "        'mascon': m\n",
    "    })\n",
    "    df.index = t['time'].apply(lambda x: datetime(2001,12,31) + timedelta(days=x))\n",
    "    grc_lst.append(df)\n",
    "    \n",
    "gracedf = pd.concat(grc_lst)"
   ]
  },
  {
   "cell_type": "code",
   "execution_count": null,
   "metadata": {},
   "outputs": [],
   "source": [
    "grct  = gracedf.groupby('time').mean()\n",
    "mardf = ds.to_dataframe()\n",
    "#mds   = ds.mean(dim='mascons')"
   ]
  },
  {
   "cell_type": "code",
   "execution_count": null,
   "metadata": {},
   "outputs": [],
   "source": [
    "mdf = mardf['SMB_ice'].groupby('time').mean().cumsum().to_frame()\n",
    "marwe = mardf['mmWE'].groupby('time').mean().to_frame()"
   ]
  },
  {
   "cell_type": "code",
   "execution_count": null,
   "metadata": {},
   "outputs": [],
   "source": [
    "fig, ax = plt.subplots(1, figsize=(10, 8))\n",
    "\n",
    "tstart = '2003-01-07'\n",
    "#tstart = '2004-03-01'\n",
    "pmdf = mdf.loc[tstart:'2015-12-31']\n",
    "pgrc = grct.loc[tstart:'2015-12-31']\n",
    "(-pmdf+pmdf.iloc[0]).plot(y='SMB_ice',ax=ax)\n",
    "#xticks1 = ax.get_xticks()\n",
    "#(marwe-marwe.loc[tstart]).plot(ax=ax,y='mmWE')\n",
    "(pgrc-pgrc.iloc[0]).plot(ax=ax,y='mmwe',marker='x')\n",
    "xticks2 = ax.get_xticks()\n",
    "#plt.xticks(df.index,pmdf.index.values)\n",
    "#grct.plot(ax=ax,y='mmwe',marker='x')\n",
    "#(grct - grct.iloc[0].mmwe).plot(y='mmwe', linewidth = 3,ax=ax)\n",
    "#(mdf - mdf.loc['2003-01-01'].mmWE).plot(ax=ax,y='mmWE',linewidth=3)\n",
    "plt.ylabel('mm water', fontsize = 20)\n",
    "plt.xlabel('time', fontsize = 20)\n",
    "#ax.legend(['MAR_SMB','MAR_mmWE','GRACE'],fontsize = 20, loc = 1)\n",
    "ax.legend(['MAR_SMB','GRACE'],fontsize = 20, loc = 1)"
   ]
  },
  {
   "cell_type": "code",
   "execution_count": null,
   "metadata": {},
   "outputs": [],
   "source": []
  },
  {
   "cell_type": "code",
   "execution_count": null,
   "metadata": {},
   "outputs": [],
   "source": []
  },
  {
   "cell_type": "code",
   "execution_count": null,
   "metadata": {},
   "outputs": [],
   "source": []
  },
  {
   "cell_type": "code",
   "execution_count": null,
   "metadata": {},
   "outputs": [],
   "source": []
  },
  {
   "cell_type": "code",
   "execution_count": null,
   "metadata": {},
   "outputs": [],
   "source": [
    "\n"
   ]
  },
  {
   "cell_type": "code",
   "execution_count": null,
   "metadata": {},
   "outputs": [],
   "source": [
    "plt.plot(aaa[:-1]-bbb)"
   ]
  },
  {
   "cell_type": "code",
   "execution_count": null,
   "metadata": {},
   "outputs": [],
   "source": [
    "ttt = np.array([datetime(2000,1,1) + timedelta(days=x) for x in aaa]) \n"
   ]
  },
  {
   "cell_type": "code",
   "execution_count": null,
   "metadata": {},
   "outputs": [],
   "source": []
  },
  {
   "cell_type": "code",
   "execution_count": null,
   "metadata": {},
   "outputs": [],
   "source": []
  },
  {
   "cell_type": "code",
   "execution_count": null,
   "metadata": {},
   "outputs": [],
   "source": []
  },
  {
   "cell_type": "code",
   "execution_count": null,
   "metadata": {},
   "outputs": [],
   "source": []
  },
  {
   "cell_type": "code",
   "execution_count": null,
   "metadata": {},
   "outputs": [],
   "source": []
  },
  {
   "cell_type": "code",
   "execution_count": null,
   "metadata": {},
   "outputs": [],
   "source": []
  }
 ],
 "metadata": {
  "kernelspec": {
   "display_name": "Python 3",
   "language": "python",
   "name": "python3"
  },
  "language_info": {
   "codemirror_mode": {
    "name": "ipython",
    "version": 3
   },
   "file_extension": ".py",
   "mimetype": "text/x-python",
   "name": "python",
   "nbconvert_exporter": "python",
   "pygments_lexer": "ipython3",
   "version": "3.6.7"
  }
 },
 "nbformat": 4,
 "nbformat_minor": 2
}
